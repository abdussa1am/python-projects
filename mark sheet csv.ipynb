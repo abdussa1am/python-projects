{
 "cells": [
  {
   "cell_type": "code",
   "execution_count": 40,
   "metadata": {},
   "outputs": [
    {
     "name": "stdout",
     "output_type": "stream",
     "text": [
      "enter nameAbdus Salam\n",
      "enter roll no: 32\n",
      "enter subject name: physics\n",
      "enter score of subject67\n",
      "enter subject name: math\n",
      "enter score of subject89\n",
      "enter subject name: urdu\n",
      "enter score of subject87\n",
      "enter subject name: chemistry\n",
      "enter score of subject65\n",
      "enter subject name: islamiat\n",
      "enter score of subject67\n",
      "\t\t\t<><><><>< Marksheet <><><><>><>\n",
      "|\n",
      "\t\t---------------------------------------------\n",
      "\t\t_____________________________________________\n",
      "\t\t Name: \tAbdus Salam \n",
      "\t\t Roll No: 32\n",
      "\t\t percentage: 75.0%\n",
      "\t\tyou have achieved B grade\n",
      "\t\t status: passed\n",
      "\t\t_____________________________________________\n",
      " \t\t suject:physics \t |\t marks:67 \n",
      "\n",
      "\t\t_____________________________________________\n",
      " \t\t suject:math \t |\t marks:89 \n",
      "\n",
      "\t\t_____________________________________________\n",
      " \t\t suject:urdu \t |\t marks:87 \n",
      "\n",
      "\t\t_____________________________________________\n",
      " \t\t suject:chemistry \t |\t marks:65 \n",
      "\n",
      "\t\t_____________________________________________\n",
      " \t\t suject:islamiat \t |\t marks:67 \n",
      "\n"
     ]
    }
   ],
   "source": [
    "sub_score = {}\n",
    "name = input(\"enter name\")\n",
    "rollno = input(\"enter roll no: \")\n",
    "for i in range(0,5):\n",
    "    sub = input(\"enter subject name: \")\n",
    "    score = input(\"enter score of subject\")\n",
    "    sub_score[sub] = int(score)\n",
    "total = 500\n",
    "score = sum(sub_score.values())\n",
    "result = (score/total)*100\n",
    "sheet = \"\\t\\t\\t<><><><>< Marksheet <><><><>><>\\n|\"\n",
    "sheet +=\"\\n\\t\\t---------------------------------------------\"\n",
    "sheet +=\"\\n\\t\\t_____________________________________________\"\n",
    "sheet +=\"\\n\\t\\t Name: \\t{} \".format(name)\n",
    "sheet +=\"\\n\\t\\t Roll No: {}\".format(rollno)\n",
    "sheet +=\"\\n\\t\\t percentage: {}%\".format(result)\n",
    "status = \"passed\"\n",
    "if result < 33.3:\n",
    "    sheet += \"\\n\\tyou are fail\"\n",
    "    status = \"\\n\\tfailed\"\n",
    "elif result < 50:\n",
    "    sheet +=\"\\n\\t\\tyou have achieved E grade\"\n",
    "elif result < 60:\n",
    "    sheet +=\"\\n\\t\\tyou have achieved D grade\"\n",
    "elif result < 70:\n",
    "    sheet +=\"\\n\\t\\tyou have achieved C grade\"\n",
    "elif result < 80:\n",
    "    sheet +=\"\\n\\t\\tyou have achieved B grade\"\n",
    "elif result < 90:\n",
    "    sheet +=\"\\n\\t\\tyou have achieved A grade\"\n",
    "elif result < 100:\n",
    "    sheet +=\"\\n\\t\\tyou have achieved A+ grade\"\n",
    "sheet +=\"\\n\\t\\t status: {}\".format(status)\n",
    "for key, value in sub_score.items():\n",
    "    sheet +=\"\\n\\t\\t_____________________________________________\"\n",
    "    sheet += \"\\n \\t\\t suject:{} \\t |\\t marks:{} \\n\".format(key,value)\n",
    "#print(sheet)\n",
    "with open(\"marksheet.csv\",\"w\",newline=\"\") as f:\n",
    "    f.write(sheet)\n",
    "with open(\"marksheet.csv\",\"r\",newline=\"\") as f:\n",
    "     print(f.read())\n",
    "    \n",
    "\n"
   ]
  },
  {
   "cell_type": "code",
   "execution_count": null,
   "metadata": {},
   "outputs": [],
   "source": []
  },
  {
   "cell_type": "code",
   "execution_count": null,
   "metadata": {},
   "outputs": [],
   "source": []
  },
  {
   "cell_type": "code",
   "execution_count": null,
   "metadata": {},
   "outputs": [],
   "source": []
  },
  {
   "cell_type": "raw",
   "metadata": {},
   "source": []
  },
  {
   "cell_type": "code",
   "execution_count": null,
   "metadata": {},
   "outputs": [],
   "source": []
  },
  {
   "cell_type": "code",
   "execution_count": null,
   "metadata": {},
   "outputs": [],
   "source": []
  }
 ],
 "metadata": {
  "kernelspec": {
   "display_name": "Python 3",
   "language": "python",
   "name": "python3"
  }
 },
 "nbformat": 4,
 "nbformat_minor": 2
}
