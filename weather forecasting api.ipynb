{
 "cells": [
  {
   "cell_type": "code",
   "execution_count": 36,
   "metadata": {},
   "outputs": [],
   "source": [
    "from tkinter import *\n",
    "from datetime import datetime\n",
    "import requests\n",
    "def get_weather(city):\n",
    "    weather_key = '9ac16e9370b22e1f44ee8cef59438203'\n",
    "    url = 'https://api.openweathermap.org/data/2.5/weather'\n",
    "    params = {'APPID': weather_key, 'q': city}\n",
    "    response = requests.get(url,params)\n",
    "    weather = response.json()\n",
    "    name = weather['name']\n",
    "    windspeed = weather['wind']['speed']\n",
    "    description = weather['weather'][0]['description']\n",
    "    degree = weather['wind']['deg']\n",
    "    temp = weather['main']['temp']\n",
    "    temp = int(temp) - 273\n",
    "    time = weather['dt']\n",
    "    time = datetime.fromtimestamp(time)\n",
    "    label['text'] = \"CITY NAME: \"+str(name) +\"\\n DATE AND TIME:\" +str(time) +\"\\n DESCRIPTION: \"+str(description) + \"\\n WIND SPEED:\" +str(windspeed) + \"\\n WIND DEGREE: \"+str(degree) + \"\\n TEMPERATURE: \"+str(temp) \n",
    "    print(weather)\n",
    "    print(weather['weather'][0]['description'])\n",
    "    print(weather['wind']['speed'])\n",
    "   \n",
    "root = Tk()\n",
    "\n",
    "canvas= tk.Canvas(root,height='600',width='500')\n",
    "canvas.pack()\n",
    "\n",
    "frame = tk.Frame(root,bg='blue',bd=5)\n",
    "frame.place(relx=0.5, rely=0.1, relwidth=0.75, relheight=0.1, anchor='n')\n",
    "\n",
    "entry = tk.Entry(frame,font=40)\n",
    "entry.place(relwidth=0.65, relheight=1)\n",
    "\n",
    "button = tk.Button(frame,text='get weather',font=40, command=lambda: get_weather(entry.get()))\n",
    "button.place(relx=0.7,relheight=1,relwidth=0.3)\n",
    "\n",
    "lowerframe = tk.Frame(root,bg='blue',bd=10,)\n",
    "lowerframe.place(relx=0.5,rely=0.25,relwidth=0.75,relheight=0.6,anchor='n')\n",
    " \n",
    "label = tk.Label(lowerframe, font=40)\n",
    "label.place(relwidth=1,relheight=1)\n",
    "\n",
    "\n",
    "root.mainloop()"
   ]
  }
 ],
 "metadata": {
  "kernelspec": {
   "display_name": "Python 3",
   "language": "python",
   "name": "python3"
  },
  "language_info": {
   "codemirror_mode": {
    "name": "ipython",
    "version": 3
   },
   "file_extension": ".py",
   "mimetype": "text/x-python",
   "name": "python",
   "nbconvert_exporter": "python",
   "pygments_lexer": "ipython3",
   "version": "3.7.3"
  }
 },
 "nbformat": 4,
 "nbformat_minor": 2
}
